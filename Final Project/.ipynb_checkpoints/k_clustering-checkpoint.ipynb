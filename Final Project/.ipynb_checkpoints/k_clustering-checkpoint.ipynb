{
 "cells": [
  {
   "cell_type": "code",
   "execution_count": 1,
   "metadata": {},
   "outputs": [],
   "source": [
    "import utils\n",
    "import student_utils\n",
    "import os, sys\n",
    "import networkx as nx\n",
    "import matplotlib.pyplot as plt\n",
    "import numpy as np\n",
    "import random\n",
    "import math\n",
    "from student_utils import *"
   ]
  },
  {
   "cell_type": "code",
   "execution_count": 4,
   "metadata": {},
   "outputs": [
    {
     "ename": "TypeError",
     "evalue": "unsupported operand type(s) for +: 'int' and 'list'",
     "output_type": "error",
     "traceback": [
      "\u001b[0;31m---------------------------------------------------------------------------\u001b[0m",
      "\u001b[0;31mTypeError\u001b[0m                                 Traceback (most recent call last)",
      "\u001b[0;32m<ipython-input-4-133eeb901e8c>\u001b[0m in \u001b[0;36m<module>\u001b[0;34m\u001b[0m\n\u001b[1;32m     14\u001b[0m     \u001b[0mdist\u001b[0m \u001b[0;34m=\u001b[0m \u001b[0;34m[\u001b[0m\u001b[0mlength\u001b[0m\u001b[0;34m[\u001b[0m\u001b[0mstarting_location_index\u001b[0m\u001b[0;34m[\u001b[0m\u001b[0;36m0\u001b[0m\u001b[0;34m]\u001b[0m\u001b[0;34m]\u001b[0m\u001b[0;34m[\u001b[0m\u001b[0mk\u001b[0m\u001b[0;34m]\u001b[0m \u001b[0;32mfor\u001b[0m \u001b[0mk\u001b[0m \u001b[0;32min\u001b[0m \u001b[0mlist_of_homes_index\u001b[0m\u001b[0;34m]\u001b[0m\u001b[0;34m\u001b[0m\u001b[0;34m\u001b[0m\u001b[0m\n\u001b[1;32m     15\u001b[0m     \u001b[0mnext_location\u001b[0m \u001b[0;34m=\u001b[0m \u001b[0mlist_of_homes_index\u001b[0m\u001b[0;34m[\u001b[0m\u001b[0mnp\u001b[0m\u001b[0;34m.\u001b[0m\u001b[0margmin\u001b[0m\u001b[0;34m(\u001b[0m\u001b[0mdist\u001b[0m\u001b[0;34m)\u001b[0m\u001b[0;34m]\u001b[0m\u001b[0;34m\u001b[0m\u001b[0;34m\u001b[0m\u001b[0m\n\u001b[0;32m---> 16\u001b[0;31m     \u001b[0mfull_path\u001b[0m \u001b[0;34m=\u001b[0m \u001b[0mnx\u001b[0m\u001b[0;34m.\u001b[0m\u001b[0mdijkstra_path\u001b[0m\u001b[0;34m(\u001b[0m\u001b[0mG\u001b[0m\u001b[0;34m,\u001b[0m \u001b[0mstarting_location_index\u001b[0m\u001b[0;34m[\u001b[0m\u001b[0;36m0\u001b[0m\u001b[0;34m]\u001b[0m\u001b[0;34m,\u001b[0m \u001b[0mnext_location\u001b[0m\u001b[0;34m)\u001b[0m\u001b[0;34m.\u001b[0m\u001b[0mpop\u001b[0m\u001b[0;34m(\u001b[0m\u001b[0;34m)\u001b[0m\u001b[0;34m+\u001b[0m\u001b[0mnx\u001b[0m\u001b[0;34m.\u001b[0m\u001b[0mdijkstra_path\u001b[0m\u001b[0;34m(\u001b[0m\u001b[0mG\u001b[0m\u001b[0;34m,\u001b[0m \u001b[0mnext_location\u001b[0m\u001b[0;34m,\u001b[0m \u001b[0mstarting_location_index\u001b[0m\u001b[0;34m[\u001b[0m\u001b[0;36m0\u001b[0m\u001b[0;34m]\u001b[0m\u001b[0;34m)\u001b[0m\u001b[0;34m\u001b[0m\u001b[0;34m\u001b[0m\u001b[0m\n\u001b[0m\u001b[1;32m     17\u001b[0m     \u001b[0mdropoff_mapping\u001b[0m \u001b[0;34m=\u001b[0m \u001b[0;34m{\u001b[0m\u001b[0;34m}\u001b[0m\u001b[0;34m\u001b[0m\u001b[0;34m\u001b[0m\u001b[0m\n\u001b[1;32m     18\u001b[0m     \u001b[0mdropoff_mapping\u001b[0m\u001b[0;34m[\u001b[0m\u001b[0mnext_location\u001b[0m\u001b[0;34m]\u001b[0m \u001b[0;34m=\u001b[0m \u001b[0mlist_of_homes_index\u001b[0m\u001b[0;34m\u001b[0m\u001b[0;34m\u001b[0m\u001b[0m\n",
      "\u001b[0;31mTypeError\u001b[0m: unsupported operand type(s) for +: 'int' and 'list'"
     ]
    }
   ],
   "source": [
    "file = \"/Users/hanzeyao/Documents/CS170/project-fa19-master/inputs/194_100.in\"\n",
    "data = utils.read_file(file)\n",
    "\n",
    "number_of_locations, number_of_houses, list_of_locations, list_of_homes, starting_car_location, adjacency_matrix = student_utils.data_parser(data)\n",
    "list_of_homes_index = student_utils.convert_locations_to_indices(list_of_homes, list_of_locations)\n",
    "starting_location_index = student_utils.convert_locations_to_indices([starting_car_location], list_of_locations)\n",
    "\n",
    "list_of_locations, list_of_homes, starting_car_location, adjacency_matrix\n",
    "G, message = student_utils.adjacency_matrix_to_graph(adjacency_matrix)\n",
    "length = dict(nx.all_pairs_dijkstra_path_length(G))\n",
    "\n",
    "list_of_homes_index = student_utils.convert_locations_to_indices(list_of_homes, list_of_locations)\n",
    "if len(list_of_homes_index) == 1:\n",
    "    dist = [length[starting_location_index[0]][k] for k in list_of_homes_index]\n",
    "    next_location = list_of_homes_index[np.argmin(dist)]\n",
    "    full_path = nx.dijkstra_path(G, starting_location_index[0], next_location)+nx.dijkstra_path(G, next_location, starting_location_index[0])[1:]\n",
    "    dropoff_mapping = {}\n",
    "    dropoff_mapping[next_location] = list_of_homes_index\n",
    "    print(full_path)\n",
    "    print(dropoff_mapping)\n",
    "costs = []\n",
    "for k in range(1, len(list_of_homes), 8):\n",
    "    random.seed(123)\n",
    "    centers = []\n",
    "    centers.append(random.choice(list_of_homes_index))\n",
    "    for i in range(2, k+1):\n",
    "        min_dist = []\n",
    "        for idx in list_of_homes_index:\n",
    "            min_d = math.inf\n",
    "            for center in centers:\n",
    "                min_d = min(min_d, length[center][idx])\n",
    "            min_dist.append(min_d)\n",
    "        new_center = list_of_homes_index[np.argmax(min_dist)]\n",
    "        centers.append(new_center)\n",
    "\n",
    "    # add starting point to the k centers\n",
    "    #centers.append(starting_location_index[0])\n",
    "    print(k)\n",
    "    \n",
    "    dropoff_mapping = {}\n",
    "    for k in centers:\n",
    "        dropoff_mapping[k] = []\n",
    "\n",
    "    for i in list_of_homes_index:\n",
    "        dist = [length[i][k] for k in centers]\n",
    "        center = centers[np.argmin(dist)]\n",
    "        dropoff_mapping[center].append(i)           \n",
    "\n",
    "\n",
    "    # greedily find a circle\n",
    "    path = []\n",
    "    path.append(starting_location_index[0])\n",
    "    current = starting_location_index[0]\n",
    "    while len(centers)>0:\n",
    "        dist = [length[current][k] for k in centers]\n",
    "        next_location = centers[np.argmin(dist)]\n",
    "        path.append(next_location)\n",
    "        centers.remove(next_location)\n",
    "        current = next_location\n",
    "    path.append(starting_location_index[0])\n",
    "\n",
    "    full_path = []\n",
    "    for i in range(len(path)-1):\n",
    "        full_path += nx.dijkstra_path(G, path[i], path[i+1])\n",
    "        full_path.pop()\n",
    "    full_path.append(starting_location_index[0])\n",
    "    #optimize over range of number of ceners\n",
    "\n",
    "    costs.append(cost_of_solution(G, full_path, dropoff_mapping)[0])\n",
    "k = np.argmin(costs)\n",
    "k = list(range(5, len(list_of_homes), 8))[k]\n",
    "print(k)\n",
    "random.seed(123)\n",
    "\n",
    "centers = []\n",
    "centers.append(random.choice(list_of_homes_index))\n",
    "for i in range(2, k+1):\n",
    "    min_dist = []\n",
    "    for idx in list_of_homes_index:\n",
    "        min_d = math.inf\n",
    "        for center in centers:\n",
    "            min_d = min(min_d, length[center][idx])\n",
    "        min_dist.append(min_d)\n",
    "    new_center = list_of_homes_index[np.argmax(min_dist)]\n",
    "    centers.append(new_center)\n",
    "print(centers)\n",
    "\n",
    "# add starting point to the k centers\n",
    "#centers.append(starting_location_index[0])\n",
    "\n",
    "\n",
    "dropoff_mapping = {}\n",
    "for k in centers:\n",
    "    dropoff_mapping[k] = []\n",
    "\n",
    "#print(starting_car_location)\n",
    "for i in list_of_homes_index:\n",
    "    dist = [length[i][k] for k in centers]\n",
    "    center = centers[np.argmin(dist)]\n",
    "    dropoff_mapping[center].append(i)            \n",
    "\n",
    "print(dropoff_mapping)\n",
    "\n",
    "\n",
    "# greedily find a circle\n",
    "path = []\n",
    "path.append(starting_location_index[0])\n",
    "current = starting_location_index[0]\n",
    "while len(centers)>0:\n",
    "    dist = [length[current][k] for k in centers]\n",
    "    next_location = centers[np.argmin(dist)]\n",
    "    path.append(next_location)\n",
    "    centers.remove(next_location)\n",
    "    current = next_location\n",
    "path.append(starting_location_index[0])\n",
    "print(path)\n",
    "\n",
    "full_path = []\n",
    "for i in range(len(path)-1):\n",
    "    full_path += nx.dijkstra_path(G, path[i], path[i+1])\n",
    "    full_path.pop()\n",
    "full_path.append(starting_location_index[0])\n",
    "print(full_path)"
   ]
  },
  {
   "cell_type": "code",
   "execution_count": 28,
   "metadata": {},
   "outputs": [
    {
     "data": {
      "text/plain": [
       "[<matplotlib.lines.Line2D at 0xa25213290>]"
      ]
     },
     "execution_count": 28,
     "metadata": {},
     "output_type": "execute_result"
    },
    {
     "data": {
      "image/png": "[encoded data removed]",
      "text/plain": [
       "<Figure size 432x288 with 1 Axes>"
      ]
     },
     "metadata": {
      "needs_background": "light"
     },
     "output_type": "display_data"
    }
   ],
   "source": [
    "plt.plot(np.array(costs))"
   ]
  },
  {
   "cell_type": "code",
   "execution_count": 20,
   "metadata": {},
   "outputs": [
    {
     "data": {
      "text/plain": [
       "8203.704069999998"
      ]
     },
     "execution_count": 20,
     "metadata": {},
     "output_type": "execute_result"
    }
   ],
   "source": [
    "min(costs)"
   ]
  },
  {
   "cell_type": "code",
   "execution_count": 29,
   "metadata": {},
   "outputs": [
    {
     "data": {
      "text/plain": [
       "94"
      ]
     },
     "execution_count": 29,
     "metadata": {},
     "output_type": "execute_result"
    }
   ],
   "source": [
    "np.argmin(costs)"
   ]
  },
  {
   "cell_type": "code",
   "execution_count": null,
   "metadata": {},
   "outputs": [],
   "source": [
    "nx.dijkstra_path(G, 38, 0)"
   ]
  },
  {
   "cell_type": "code",
   "execution_count": null,
   "metadata": {},
   "outputs": [],
   "source": [
    "path = os.getcwd()\n",
    "files = utils.get_files_with_extension(path, '.in')\n",
    "file = files[2]\n",
    "data = utils.read_file(file)\n",
    "number_of_locations, number_of_houses, list_of_locations, list_of_houses, starting_location, adjacency_matrix = student_utils.data_parser(data)\n",
    "list_of_houses_index = student_utils.convert_locations_to_indices(list_of_houses, list_of_locations)\n",
    "starting_location_index = student_utils.convert_locations_to_indices([starting_location], list_of_locations)"
   ]
  },
  {
   "cell_type": "code",
   "execution_count": null,
   "metadata": {
    "scrolled": true
   },
   "outputs": [],
   "source": [
    "# print(number_of_locations)\n",
    "# print(list_of_locations)\n",
    "\n",
    "print(number_of_houses)\n",
    "print(list_of_houses)\n",
    "list_of_houses_index"
   ]
  },
  {
   "cell_type": "code",
   "execution_count": null,
   "metadata": {},
   "outputs": [],
   "source": [
    "list_of_locations, list_of_homes, starting_car_location, adjacency_matrix\n",
    "\n",
    "\n",
    "G, message = student_utils.adjacency_matrix_to_graph(adjacency_matrix)\n",
    "#nx.draw(G)\n",
    "length = dict(nx.all_pairs_dijkstra_path_length(G))\n",
    "len(length)"
   ]
  },
  {
   "cell_type": "code",
   "execution_count": null,
   "metadata": {},
   "outputs": [],
   "source": [
    "k = 10\n",
    "random.seed(123)\n",
    "\n",
    "# randomly pick a point as the first cluster center\n",
    "center_one = random.choice(list_of_houses_index)\n",
    "print(center_one)\n",
    "print(list_of_locations[center_one])\n",
    "\n",
    "min_dist = [length[center_one][i] for i in list_of_houses_index]\n",
    "center_two = list_of_houses_index[np.argmax(min_dist)]\n",
    "print(center_two)\n",
    "print(list_of_locations[center_two])\n",
    "\n",
    "min_dist = []\n",
    "for idx in list_of_houses_index:\n",
    "    min_d = min(length[center_one][idx],length[center_two][idx])\n",
    "    min_dist.append(min_d)\n",
    "center_three = list_of_houses_index[np.argmax(min_dist)]\n",
    "print(center_three)\n",
    "print(list_of_locations[center_three])"
   ]
  },
  {
   "cell_type": "code",
   "execution_count": null,
   "metadata": {},
   "outputs": [],
   "source": [
    "k = 10\n",
    "random.seed(123)\n",
    "\n",
    "centers = []\n",
    "centers.append(random.choice(list_of_houses_index))\n",
    "for i in range(2,k+1):\n",
    "    min_dist = []\n",
    "    for idx in list_of_houses_index:\n",
    "        min_d = math.inf\n",
    "        for center in centers:\n",
    "            min_d = min(min_d, length[center][idx])\n",
    "        min_dist.append(min_d)\n",
    "    new_center = list_of_houses_index[np.argmax(min_dist)]\n",
    "    centers.append(new_center)\n",
    "centers"
   ]
  },
  {
   "cell_type": "code",
   "execution_count": null,
   "metadata": {},
   "outputs": [],
   "source": [
    "n = len(list_of_houses_index)\n",
    "distance_houses = np.empty(shape=(n,n))\n",
    "distance_houses.fill(0)\n",
    "for i in range(n):\n",
    "    for j in range(n):\n",
    "        #print(i,j)\n",
    "        row_idx = list_of_houses_index[i]\n",
    "        column_idx = list_of_houses_index[j]\n",
    "        distance_houses[i][j] = length[row_idx][column_idx]\n",
    "print(distance_houses)      "
   ]
  },
  {
   "cell_type": "code",
   "execution_count": null,
   "metadata": {},
   "outputs": [],
   "source": []
  }
 ],
 "metadata": {
  "kernelspec": {
   "display_name": "Python 3",
   "language": "python",
   "name": "python3"
  },
  "language_info": {
   "codemirror_mode": {
    "name": "ipython",
    "version": 3
   },
   "file_extension": ".py",
   "mimetype": "text/x-python",
   "name": "python",
   "nbconvert_exporter": "python",
   "pygments_lexer": "ipython3",
   "version": "3.7.4"
  }
 },
 "nbformat": 4,
 "nbformat_minor": 2
}
